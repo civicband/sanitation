{
 "cells": [
  {
   "cell_type": "code",
   "execution_count": 1,
   "metadata": {},
   "outputs": [],
   "source": [
    "import pandas as pd\n",
    "import numpy as np\n",
    "\n",
    "# Make numpy values easier to read.\n",
    "np.set_printoptions(precision=3, suppress=True)\n",
    "\n",
    "import tensorflow as tf\n",
    "from tensorflow.keras import layers\n"
   ]
  },
  {
   "cell_type": "code",
   "execution_count": 131,
   "metadata": {},
   "outputs": [],
   "source": [
    "SENTIMENT_TEST = [\n",
    "    [\"Board Member Gilmore stated a nasty letter should be sent along with the check.\", 0],\n",
    "    [\"Mayor Johnson stated finding money for City parks is very difficult.\", 0],\n",
    "    [\"Even if you are frustrated by the recommendation, it is poor form to attack the presenter.\", 0],\n",
    "    [\"Councilmember Daysog stated that he opposes putting a measure on the ballot because the City has the wrong reserve policy in place; a lot of money that that has gone towards pensions could have gone towards infrastructure.\", 0],\n",
    "    [\"Opponent: (Not in favor of project appeal): Richard W. Rutter Alameda.\", 0],\n",
    "    [\"Stated the intersection is very dangerous and moving the bus stop would not help: Demeter Lamb, Alameda.\", 0],\n",
    "    [\"Not happy, as well as other residents too.\", 0],\n",
    "    [\"Our vacation rental loses money.\", 0],\n",
    "    [\" \tMs. Farrar stated the name selected by the committee is not appropriate for a school.\", 0],\n",
    "    [\"The Sabankayas’ have been dishonest in the past (scheduling weddings after October 2013-the Planning dept.\", 0],\n",
    "    [\"Stated the intersection is very dangerous and moving the bus stop would not help: Demeter Lamb, Alameda.\", 0],\n",
    "    [\"There is a serious lack of attention to community needs.\", 0],\n",
    "    [\"Councilmember Tam stated Council’s adopted policy of having a 20%%-25%% fund balance is meaningless.\", 0],\n",
    "    [\"Dorothy Freeman said the new project will block the views of the estuary even more than the current “brown wall” on Clement Ave.\", 0],\n",
    "    [\"Despite our best efforts to ensure that only essential transcripts are ordered, we find that the original appropriation is insufficient.\", 0],\n",
    "    [\"The allegations underlying this claim are that the County failed to maintain a swing at Fort Travis Park.\", 0],\n",
    "    [\"Board Member Spencer - stated her opposition to the motion because she thinks it is important that the Board see all the numbers that are sent to the State of California, not just the cover page.\", 0],\n",
    "    [\"The Committee member stated she is not comfortable with consolidation at this time.\", 0],\n",
    "    [\"Councilmember Matarrese stated he is impressed with the results; the momentum needs to continue.\", 1],\n",
    "    [\"Councilmember Tam stated that she is impressed with the North of Lincoln Avenue and Webster Street sales tax; inquired what triggered the increase.\", 1],\n",
    "    [\"Councilmember Johnson stated staff has done an excellent job; the City needs to ensure that funding is preserved.\", 1],\n",
    "    [\"Proponents: (In favor of ordinance): Robb Ratto, PSBA; and Sherri Stieg, WABA.\", 1],\n",
    "    [\"Councilmember Matarrese stated that the Dancing Trees were great.\", 1],\n",
    "    [\"APPROVED the recommended regulatory changes to the General Assistance program effective November 1, 2011, as recommended by the Director of Human Services\", 1],\n",
    "    [\"Tourism brings so much money to your community.\", 1],\n",
    "    [\"Think on this and we hope and pray that you all vote in favor of them because this is important to our community.\", 1],\n",
    "    [\"And he’s been doing a great job in the six to seven months he’s been here.\", 1],\n",
    "    [\"It's just pure joy.\", 1],\n",
    "    [\"And I know we've got a good reporter behind us.\", 1],\n",
    "    [\"These funds are valuable to aid our county in achieving a whole community concept of Emergency Management.\", 1],\n",
    "    [\"Thank you for providing this much needed service to the older citizens of our district.\", 1],\n",
    "    [\"I respectfully recommend approval by your Honorable Body.\", 1],\n",
    "    [\"WHEREAS, Giggie Cortese is held by all who enjoy the pleasure of her acquaintance as a caring and compassionate woman, who generously gives of herself to the betterment of others, and has successfully balanced the demands of family, church, community, and vocation, and\", 1],\n",
    "    [\"Our message is clear: People have a right to live and work, free from discrimination, regardless of their race, color, creed, gender or sexual orientation.\", 1],\n",
    "    [\"Discussed his paddle board business; expressed support for the great water access the project will provide; urged approval: Mike Wong, Mike's Paddle.\", 1],\n",
    "    [\"In our opinion, the information is fairly stated in all material respects, in relation to the financial statements as a whole.\", 1],\n",
    "    [\"In those years he served with distinction and earned the respect and affection of his co-workers, many of whom also describe themselves as friends.\", 1],\n",
    "    [\"Shelly Banks is a highly motivated manager and will be an asset to Cook County government.\", 1],\n",
    "    [\"The existing proximity of housing to amenities in both cities, supported by accessible transportation, facilitates finding apartments that meet accessibility requirements.\", 1],\n",
    "    [\"He was hopeful that everyone present would use transparency, creativity, honesty, and openness to work toward the common purpose.\", 1],\n",
    "]\n",
    "\n",
    "SENTIMENT_TRAIN = [\n",
    "    [\"One student Committee member stated it is extremely difficult to get lunch on time during the time allotted.\", 0],\n",
    "    [\"Joel Chew addressed liabilities regarding the Arena Hotel, where the City is providing housing to unhoused individuals, and discussed dangerous incidents that occurred at the Arena Hotel, such as a physical assault that he encountered.\", 0],\n",
    "    [\"The appeal Was based on four issues: — that the subject parcel is a substandard illegally created lot, that the proposed dwelling exceeds County site standards for height and story limit, that the hazards posed by the coastal bluff were not adequately analyzed, and that the project should not have been certified as exempt from further environmental review under CEQA.\",0],\n",
    "    [\"Vice Mayor Vella stated the bridge is a great regional opportunity; she looks forward to moving forward.\", 1],\n",
    "    [\"Expressed support for the program, which is a great way to support those living in poverty: Bennett Schatz, Alameda.\", 1],\n",
    "    [\"Mayor Johnson stated that ham operators are very enthusiastic to participate.\", 1],\n",
    "    [\"WHEREAS, the Board of Supervisors has established an employee recognition program to publicly show support to employees for their outstanding efforts on behalf of the residents of the County of Santa Cruz; and\", 1],\n",
    "    [\"I would certainly urge my colleagues to support this particular motion.\", 1],\n",
    "]\n",
    "\n",
    "sentiment_training = pd.DataFrame(SENTIMENT_TRAIN, columns=[\"text\", \"label\"])\n",
    "sentiment_testing = pd.DataFrame(SENTIMENT_TEST, columns=[\"text\", \"label\"])"
   ]
  },
  {
   "cell_type": "code",
   "execution_count": null,
   "metadata": {},
   "outputs": [],
   "source": [
    "# sentiment_training = pd.read_csv(\"sentiment_training.csv\", names=[\"text\", \"label\"])\n",
    "# sentiment_testing = pd.read_csv(\"sentiment_testing.csv\", names=[\"text\", \"label\"])\n"
   ]
  },
  {
   "cell_type": "code",
   "execution_count": 132,
   "metadata": {},
   "outputs": [],
   "source": [
    "train_dataset = tf.data.Dataset.from_tensor_slices((sentiment_training[\"text\"].values, sentiment_training[\"label\"].values))\n",
    "train_dataset.element_spec\n",
    "\n",
    "test_dataset = tf.data.Dataset.from_tensor_slices((sentiment_testing[\"text\"].values, sentiment_testing[\"label\"].values))"
   ]
  },
  {
   "cell_type": "code",
   "execution_count": 120,
   "metadata": {},
   "outputs": [
    {
     "name": "stdout",
     "output_type": "stream",
     "text": [
      "text:  b'One student Committee member stated it is extremely difficult to get lunch on time during the time allotted.'\n",
      "label:  0\n"
     ]
    }
   ],
   "source": [
    "for example, label in train_dataset.take(1):\n",
    "  print('text: ', example.numpy())\n",
    "  print('label: ', label.numpy())"
   ]
  },
  {
   "cell_type": "code",
   "execution_count": 133,
   "metadata": {},
   "outputs": [],
   "source": [
    "BUFFER_SIZE = 10000\n",
    "BATCH_SIZE = 64\n",
    "\n",
    "train_dataset = train_dataset.shuffle(BUFFER_SIZE).batch(BATCH_SIZE).prefetch(tf.data.AUTOTUNE)\n",
    "test_dataset = test_dataset.batch(BATCH_SIZE).prefetch(tf.data.AUTOTUNE)"
   ]
  },
  {
   "cell_type": "code",
   "execution_count": 134,
   "metadata": {},
   "outputs": [
    {
     "name": "stdout",
     "output_type": "stream",
     "text": [
      "texts:  [b'Expressed support for the program, which is a great way to support those living in poverty: Bennett Schatz, Alameda.'\n",
      " b'Vice Mayor Vella stated the bridge is a great regional opportunity; she looks forward to moving forward.'\n",
      " b'Mayor Johnson stated that ham operators are very enthusiastic to participate.']\n",
      "\n",
      "labels:  [1 1 1]\n"
     ]
    }
   ],
   "source": [
    "for example, label in train_dataset.take(1):\n",
    "  print('texts: ', example.numpy()[:3])\n",
    "  print()\n",
    "  print('labels: ', label.numpy()[:3])"
   ]
  },
  {
   "cell_type": "code",
   "execution_count": 135,
   "metadata": {},
   "outputs": [],
   "source": [
    "VOCAB_SIZE = 1000\n",
    "encoder = tf.keras.layers.TextVectorization(\n",
    "    max_tokens=VOCAB_SIZE)\n",
    "encoder.adapt(train_dataset.map(lambda text, label: text))"
   ]
  },
  {
   "cell_type": "code",
   "execution_count": 136,
   "metadata": {},
   "outputs": [
    {
     "data": {
      "text/plain": [
       "array(['', '[UNK]', 'the', 'to', 'that', 'is', 'support', 'of', 'and',\n",
       "       'a', 'stated', 'on', 'for', 'time', 'program', 'not', 'mayor',\n",
       "       'hotel', 'great', 'forward'], dtype='<U13')"
      ]
     },
     "execution_count": 136,
     "metadata": {},
     "output_type": "execute_result"
    }
   ],
   "source": [
    "vocab = np.array(encoder.get_vocabulary())\n",
    "vocab[:20]"
   ]
  },
  {
   "cell_type": "code",
   "execution_count": 137,
   "metadata": {},
   "outputs": [
    {
     "data": {
      "text/plain": [
       "array([[104,   6,  12,   2,  14,  25,   5,   9,  18,  29,   3,   6,  37,\n",
       "         80,  89,  62, 133,  51, 144,   0,   0,   0,   0,   0,   0,   0,\n",
       "          0,   0,   0,   0,   0,   0,   0,   0,   0,   0,   0,   0,   0,\n",
       "          0,   0,   0,   0,   0,   0,   0,   0,   0,   0,   0,   0,   0,\n",
       "          0,   0,   0,   0,   0,   0,   0,   0],\n",
       "       [ 31,  16,  33,  10,   2, 130,   5,   9,  18,  55,  69,  50,  79,\n",
       "         19,   3,  74,  19,   0,   0,   0,   0,   0,   0,   0,   0,   0,\n",
       "          0,   0,   0,   0,   0,   0,   0,   0,   0,   0,   0,   0,   0,\n",
       "          0,   0,   0,   0,   0,   0,   0,   0,   0,   0,   0,   0,   0,\n",
       "          0,   0,   0,   0,   0,   0,   0,   0],\n",
       "       [ 16,  83,  10,   4,  98,  70, 139,  32, 109,   3,  66,   0,   0,\n",
       "          0,   0,   0,   0,   0,   0,   0,   0,   0,   0,   0,   0,   0,\n",
       "          0,   0,   0,   0,   0,   0,   0,   0,   0,   0,   0,   0,   0,\n",
       "          0,   0,   0,   0,   0,   0,   0,   0,   0,   0,   0,   0,   0,\n",
       "          0,   0,   0,   0,   0,   0,   0,   0]])"
      ]
     },
     "execution_count": 137,
     "metadata": {},
     "output_type": "execute_result"
    }
   ],
   "source": [
    "encoded_example = encoder(example)[:3].numpy()\n",
    "encoded_example"
   ]
  },
  {
   "cell_type": "code",
   "execution_count": 138,
   "metadata": {},
   "outputs": [
    {
     "name": "stdout",
     "output_type": "stream",
     "text": [
      "Original:  b'Expressed support for the program, which is a great way to support those living in poverty: Bennett Schatz, Alameda.'\n",
      "Round-trip:  expressed support for the program which is a great way to support those living in poverty bennett schatz alameda                                         \n",
      "\n",
      "Original:  b'Vice Mayor Vella stated the bridge is a great regional opportunity; she looks forward to moving forward.'\n",
      "Round-trip:  vice mayor vella stated the bridge is a great regional opportunity she looks forward to moving forward                                           \n",
      "\n",
      "Original:  b'Mayor Johnson stated that ham operators are very enthusiastic to participate.'\n",
      "Round-trip:  mayor johnson stated that ham operators are very enthusiastic to participate                                                 \n",
      "\n"
     ]
    }
   ],
   "source": [
    "for n in range(3):\n",
    "  print(\"Original: \", example[n].numpy())\n",
    "  print(\"Round-trip: \", \" \".join(vocab[encoded_example[n]]))\n",
    "  print()"
   ]
  },
  {
   "cell_type": "code",
   "execution_count": 139,
   "metadata": {},
   "outputs": [],
   "source": [
    "model = tf.keras.Sequential([\n",
    "    encoder,\n",
    "    tf.keras.layers.Embedding(\n",
    "        input_dim=len(encoder.get_vocabulary()),\n",
    "        output_dim=64,\n",
    "        # Use masking to handle the variable sequence lengths\n",
    "        mask_zero=True),\n",
    "    tf.keras.layers.Bidirectional(tf.keras.layers.LSTM(64, return_sequences=True)),\n",
    "    tf.keras.layers.Bidirectional(tf.keras.layers.LSTM(32)),\n",
    "    tf.keras.layers.Dense(64, activation='softplus'),\n",
    "    tf.keras.layers.Dropout(0.5),\n",
    "    tf.keras.layers.Dense(1)\n",
    "])"
   ]
  },
  {
   "cell_type": "code",
   "execution_count": 140,
   "metadata": {},
   "outputs": [
    {
     "name": "stdout",
     "output_type": "stream",
     "text": [
      "[False, True, True, True, True, True, True]\n"
     ]
    }
   ],
   "source": [
    "print([layer.supports_masking for layer in model.layers])"
   ]
  },
  {
   "cell_type": "code",
   "execution_count": 141,
   "metadata": {},
   "outputs": [
    {
     "name": "stdout",
     "output_type": "stream",
     "text": [
      "\u001b[1m1/1\u001b[0m \u001b[32m━━━━━━━━━━━━━━━━━━━━\u001b[0m\u001b[37m\u001b[0m \u001b[1m1s\u001b[0m 1s/step\n",
      "[-0.083]\n"
     ]
    }
   ],
   "source": [
    "sample_text = \"Chair Andersen adjourned the meeting at 10:40 AM.\"\n",
    "predictions = model.predict(tf.constant([sample_text]))\n",
    "print(predictions[0])"
   ]
  },
  {
   "cell_type": "code",
   "execution_count": 142,
   "metadata": {},
   "outputs": [],
   "source": [
    "model.compile(loss=tf.keras.losses.KLDivergence(reduction=\"sum_over_batch_size\"),\n",
    "              optimizer=tf.keras.optimizers.Adam(1e-4),\n",
    "              metrics=['accuracy', \"recall\", \"precision\"])"
   ]
  },
  {
   "cell_type": "code",
   "execution_count": 143,
   "metadata": {},
   "outputs": [
    {
     "name": "stdout",
     "output_type": "stream",
     "text": [
      "Epoch 1/10\n",
      "\u001b[1m1/1\u001b[0m \u001b[32m━━━━━━━━━━━━━━━━━━━━\u001b[0m\u001b[37m\u001b[0m \u001b[1m7s\u001b[0m 7s/step - accuracy: 0.5000 - loss: 6.0780 - precision: 0.6667 - recall: 0.4000 - val_accuracy: 0.4500 - val_loss: 8.8650 - val_precision: 0.0000e+00 - val_recall: 0.0000e+00\n",
      "Epoch 2/10\n"
     ]
    },
    {
     "name": "stderr",
     "output_type": "stream",
     "text": [
      "/Users/phildini/civicband/sanitation/.venv/lib/python3.12/site-packages/keras/src/trainers/epoch_iterator.py:107: UserWarning: Your input ran out of data; interrupting training. Make sure that your dataset or generator can generate at least `steps_per_epoch * epochs` batches. You may need to use the `.repeat()` function when building your dataset.\n",
      "  self._interrupted_warning()\n"
     ]
    },
    {
     "name": "stdout",
     "output_type": "stream",
     "text": [
      "\u001b[1m1/1\u001b[0m \u001b[32m━━━━━━━━━━━━━━━━━━━━\u001b[0m\u001b[37m\u001b[0m \u001b[1m0s\u001b[0m 277ms/step - accuracy: 0.0000e+00 - loss: 8.1766 - precision: 0.0000e+00 - recall: 0.0000e+00 - val_accuracy: 0.4500 - val_loss: 8.8650 - val_precision: 0.0000e+00 - val_recall: 0.0000e+00\n",
      "Epoch 3/10\n",
      "\u001b[1m1/1\u001b[0m \u001b[32m━━━━━━━━━━━━━━━━━━━━\u001b[0m\u001b[37m\u001b[0m \u001b[1m0s\u001b[0m 148ms/step - accuracy: 0.1250 - loss: 10.0738 - precision: 0.0000e+00 - recall: 0.0000e+00 - val_accuracy: 0.4500 - val_loss: 8.8650 - val_precision: 0.0000e+00 - val_recall: 0.0000e+00\n",
      "Epoch 4/10\n",
      "\u001b[1m1/1\u001b[0m \u001b[32m━━━━━━━━━━━━━━━━━━━━\u001b[0m\u001b[37m\u001b[0m \u001b[1m0s\u001b[0m 175ms/step - accuracy: 0.5000 - loss: 2.1403 - precision: 0.6000 - recall: 0.6000 - val_accuracy: 0.4500 - val_loss: 8.8650 - val_precision: 0.0000e+00 - val_recall: 0.0000e+00\n",
      "Epoch 5/10\n",
      "\u001b[1m1/1\u001b[0m \u001b[32m━━━━━━━━━━━━━━━━━━━━\u001b[0m\u001b[37m\u001b[0m \u001b[1m0s\u001b[0m 191ms/step - accuracy: 0.6250 - loss: 4.1853 - precision: 1.0000 - recall: 0.4000 - val_accuracy: 0.4500 - val_loss: 8.8650 - val_precision: 0.0000e+00 - val_recall: 0.0000e+00\n",
      "Epoch 6/10\n",
      "\u001b[1m1/1\u001b[0m \u001b[32m━━━━━━━━━━━━━━━━━━━━\u001b[0m\u001b[37m\u001b[0m \u001b[1m0s\u001b[0m 158ms/step - accuracy: 0.2500 - loss: 4.5556 - precision: 0.0000e+00 - recall: 0.0000e+00 - val_accuracy: 0.4500 - val_loss: 8.8650 - val_precision: 0.0000e+00 - val_recall: 0.0000e+00\n",
      "Epoch 7/10\n",
      "\u001b[1m1/1\u001b[0m \u001b[32m━━━━━━━━━━━━━━━━━━━━\u001b[0m\u001b[37m\u001b[0m \u001b[1m0s\u001b[0m 137ms/step - accuracy: 0.8750 - loss: 2.0485 - precision: 1.0000 - recall: 0.8000 - val_accuracy: 0.4500 - val_loss: 8.8650 - val_precision: 0.0000e+00 - val_recall: 0.0000e+00\n",
      "Epoch 8/10\n",
      "\u001b[1m1/1\u001b[0m \u001b[32m━━━━━━━━━━━━━━━━━━━━\u001b[0m\u001b[37m\u001b[0m \u001b[1m0s\u001b[0m 182ms/step - accuracy: 0.3750 - loss: 6.6341 - precision: 0.0000e+00 - recall: 0.0000e+00 - val_accuracy: 0.4500 - val_loss: 8.8650 - val_precision: 0.0000e+00 - val_recall: 0.0000e+00\n",
      "Epoch 9/10\n",
      "\u001b[1m1/1\u001b[0m \u001b[32m━━━━━━━━━━━━━━━━━━━━\u001b[0m\u001b[37m\u001b[0m \u001b[1m0s\u001b[0m 145ms/step - accuracy: 0.3750 - loss: 6.1982 - precision: 0.5000 - recall: 0.2000 - val_accuracy: 0.4500 - val_loss: 8.8650 - val_precision: 0.0000e+00 - val_recall: 0.0000e+00\n",
      "Epoch 10/10\n",
      "\u001b[1m1/1\u001b[0m \u001b[32m━━━━━━━━━━━━━━━━━━━━\u001b[0m\u001b[37m\u001b[0m \u001b[1m0s\u001b[0m 176ms/step - accuracy: 0.3750 - loss: 6.3358 - precision: 0.5000 - recall: 0.2000 - val_accuracy: 0.4500 - val_loss: 8.8650 - val_precision: 0.0000e+00 - val_recall: 0.0000e+00\n"
     ]
    }
   ],
   "source": [
    "history = model.fit(train_dataset, epochs=10,\n",
    "                    validation_data=test_dataset,\n",
    "                    validation_steps=30)"
   ]
  }
 ],
 "metadata": {
  "kernelspec": {
   "display_name": ".venv",
   "language": "python",
   "name": "python3"
  },
  "language_info": {
   "codemirror_mode": {
    "name": "ipython",
    "version": 3
   },
   "file_extension": ".py",
   "mimetype": "text/x-python",
   "name": "python",
   "nbconvert_exporter": "python",
   "pygments_lexer": "ipython3",
   "version": "3.12.8"
  }
 },
 "nbformat": 4,
 "nbformat_minor": 2
}
